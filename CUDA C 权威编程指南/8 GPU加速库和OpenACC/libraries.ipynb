{
 "cells": [
  {
   "cell_type": "markdown",
   "metadata": {},
   "source": [
    "<h2>8 GPU加速库和OpenACC</h2>\n",
    "<h3>8.1 CUDA库概述</h3>\n",
    "<h4>8.1.2 通用的CUDA库工作流</h4>\n",
    "<p>1 在库操作中创建一个特定库句柄来管理上下文信息</p>\n",
    "<p>2 为库函数输入输出分配内存</p>\n",
    "<p>3 转换输入格式</p>\n",
    "<p>4 将格式填入预先分配的设备内存</p>\n",
    "<p>5 配置要执行的库运算</p>\n",
    "<p>6 执行一个GPU库调用</p>\n",
    "<p>7 取回设备内存中计算结果，可能是库设定的格式</p>\n",
    "<p>8 转换回原始的格式</p>\n",
    "<p>9 释放CUDA资源</p>\n",
    "<p>10 继续完成其他工作</p>\n",
    "\n",
    "<p>cuSPARSE 稀疏线性代数库</p>\n",
    "<p>cuBLAS   传统线性代数库</p>\n",
    "<p>cuFFT    快速傅立叶变换</p>\n",
    "<p>cuRAND   随机库</p>\n",
    "\n"
   ]
  }
 ],
 "metadata": {
  "language_info": {
   "name": "python"
  },
  "orig_nbformat": 4
 },
 "nbformat": 4,
 "nbformat_minor": 2
}
